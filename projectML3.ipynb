{
 "cells": [
  {
   "cell_type": "code",
   "execution_count": 1,
   "metadata": {
    "collapsed": true
   },
   "outputs": [],
   "source": [
    "%matplotlib inline\n",
    "import os\n",
    "import glob\n",
    "import numpy as np\n",
    "from scipy import io\n",
    "import matplotlib.pyplot as plt\n",
    "import pandas as pd"
   ]
  },
  {
   "cell_type": "code",
   "execution_count": 15,
   "metadata": {},
   "outputs": [],
   "source": [
    "data = pd.read_csv('ad.txt', ',', skipinitialspace=True, header = None)\n",
    "X_df = data[[data.columns[i] for i in range(3, 1558)]]\n",
    "#X_df = data[[data.columns[i] for i in range(1558)]]\n",
    "y_df = data[1558]"
   ]
  },
  {
   "cell_type": "code",
   "execution_count": 16,
   "metadata": {},
   "outputs": [],
   "source": [
    "from sklearn.preprocessing import Imputer\n",
    "\n",
    "XX_train = X_df.values\n",
    "yy = y_df.values\n",
    "\n",
    "yyy = np.zeros(3279)\n",
    "for i in range(3279):\n",
    "    if yy[i] == 'ad.':\n",
    "        yyy[i] = 1\n",
    "\n",
    "for i in range(len(XX_train)):\n",
    "    for j in range(4):\n",
    "        if XX_train[i][j] == '?':\n",
    "            XX_train[i][j] = -1.0\n",
    "            continue\n",
    "        XX_train[i][j] = float(XX_train[i][j])\n",
    "\n",
    "clf = Imputer(missing_values= -1.0, strategy='mean')\n",
    "XX = clf.fit_transform(XX_train)"
   ]
  },
  {
   "cell_type": "code",
   "execution_count": 23,
   "metadata": {
    "collapsed": true
   },
   "outputs": [],
   "source": [
    "def RP(p, q):\n",
    "    A = np.zeros([p, q])\n",
    "    for i in range(p):\n",
    "        for j in range(q):\n",
    "            rand = np.random.uniform(0, 3)\n",
    "            if rand < 0.5:\n",
    "                A[i, j] = np.sqrt(3) #/ np.sqrt(q)\n",
    "            if rand >= 2.5:\n",
    "                A[i, j] = - np.sqrt(3) #/ np.sqrt(q)\n",
    "    return A\n",
    "\n",
    "def RP2(p, q):\n",
    "    A = np.zeros([p, q])\n",
    "    for i in range(p):\n",
    "        for j in range(q):\n",
    "            rand = np.random.uniform(0, 1)\n",
    "            if rand < 0.5:\n",
    "                A[i, j] = 1\n",
    "            if rand >= 0.5:\n",
    "                A[i, j] = - 1\n",
    "    return A"
   ]
  },
  {
   "cell_type": "code",
   "execution_count": 24,
   "metadata": {},
   "outputs": [
    {
     "data": {
      "text/plain": [
       "array([[ 1.73205081,  0.        , -1.73205081],\n",
       "       [-1.73205081,  0.        ,  0.        ],\n",
       "       [ 0.        ,  1.73205081, -1.73205081],\n",
       "       [ 0.        ,  0.        ,  0.        ],\n",
       "       [ 0.        ,  0.        ,  0.        ],\n",
       "       [ 1.73205081,  0.        ,  0.        ],\n",
       "       [ 0.        ,  0.        ,  1.73205081],\n",
       "       [ 0.        ,  0.        ,  0.        ],\n",
       "       [ 0.        ,  1.73205081,  0.        ],\n",
       "       [ 0.        , -1.73205081,  0.        ],\n",
       "       [ 1.73205081,  1.73205081,  0.        ],\n",
       "       [ 0.        ,  0.        ,  0.        ],\n",
       "       [-1.73205081,  0.        ,  1.73205081],\n",
       "       [ 0.        ,  0.        ,  1.73205081],\n",
       "       [ 1.73205081,  0.        ,  0.        ],\n",
       "       [-1.73205081,  0.        , -1.73205081],\n",
       "       [ 0.        ,  0.        ,  0.        ],\n",
       "       [-1.73205081,  0.        ,  1.73205081],\n",
       "       [ 0.        ,  0.        ,  0.        ],\n",
       "       [-1.73205081,  0.        , -1.73205081]])"
      ]
     },
     "execution_count": 24,
     "metadata": {},
     "output_type": "execute_result"
    }
   ],
   "source": [
    "RP(20, 3)"
   ]
  },
  {
   "cell_type": "code",
   "execution_count": 28,
   "metadata": {},
   "outputs": [
    {
     "name": "stdout",
     "output_type": "stream",
     "text": [
      "30\n",
      "30\n",
      "30\n",
      "30\n",
      "30\n",
      "30\n",
      "30\n"
     ]
    }
   ],
   "source": [
    "#np.set_printoptions(threshold=9000)\n",
    "from sklearn.model_selection import ShuffleSplit\n",
    "from sklearn.random_projection import SparseRandomProjection\n",
    "from sklearn.decomposition import PCA\n",
    "from sklearn.preprocessing import normalize\n",
    "from sklearn.tree import DecisionTreeClassifier\n",
    "from sklearn.neighbors import KNeighborsClassifier\n",
    "from sklearn.svm import SVC\n",
    "\n",
    "n_components = [5, 10, 25, 50, 100, 200, 500]\n",
    "skf = ShuffleSplit(n_splits=30, test_size=1079, random_state=42)\n",
    "X_normalized = normalize(XX, norm='l2')\n",
    "#X_normalized = XX.copy()\n",
    "list_precision = []\n",
    "for j in n_components:\n",
    "    precision = np.zeros([4, 2])\n",
    "    for train_index, test_index in skf.split(yyy):\n",
    "        X_train_df = X_normalized[train_index].copy()\n",
    "        y_train_df = yyy[train_index].copy()   \n",
    "        X_test_df = X_normalized[test_index].copy()\n",
    "        y_test_df = yyy[test_index].copy()\n",
    "\n",
    "        a = RP(1555, j)\n",
    "        X_train_rp = X_train_df.dot(a)\n",
    "        X_test_rp = X_test_df.dot(a)\n",
    "\n",
    "        pca = PCA(n_components = j)\n",
    "        pca.fit(X_train_df)\n",
    "        X_train_pca = pca.transform(X_train_df)\n",
    "        X_test_pca = pca.transform(X_test_df)\n",
    "\n",
    "        clf11 = DecisionTreeClassifier()\n",
    "        clf11.fit(X_train_rp, y_train_df)\n",
    "        clf12 = DecisionTreeClassifier()\n",
    "        clf12.fit(X_train_pca, y_train_df)\n",
    "\n",
    "        clf21 = KNeighborsClassifier(n_neighbors=1)\n",
    "        clf21.fit(X_train_rp, y_train_df)\n",
    "        clf22 = KNeighborsClassifier(n_neighbors=1)\n",
    "        clf22.fit(X_train_pca, y_train_df)\n",
    "\n",
    "        clf31 = KNeighborsClassifier(n_neighbors=5)\n",
    "        clf31.fit(X_train_rp, y_train_df)\n",
    "        clf32 = KNeighborsClassifier(n_neighbors=5)\n",
    "        clf32.fit(X_train_pca, y_train_df)\n",
    "\n",
    "        clf41 = SVC(C=50.)\n",
    "        clf41.fit(X_train_rp, y_train_df)\n",
    "        clf42 = SVC(C=50.)\n",
    "        clf42.fit(X_train_pca, y_train_df)\n",
    "        \n",
    "        precision[0, 0] += clf11.score(X_test_rp, y_test_df)\n",
    "        precision[0, 1] += clf12.score(X_test_pca, y_test_df)\n",
    "        precision[1, 0] += clf21.score(X_test_rp, y_test_df)\n",
    "        precision[1, 1] += clf22.score(X_test_pca, y_test_df)\n",
    "        precision[2, 0] += clf31.score(X_test_rp, y_test_df)\n",
    "        precision[2, 1] += clf32.score(X_test_pca, y_test_df)\n",
    "        precision[3, 0] += clf41.score(X_test_rp, y_test_df)\n",
    "        precision[3, 1] += clf42.score(X_test_pca, y_test_df)\n",
    "        \n",
    "    print 30\n",
    "    list_precision.append(precision.copy() / 30.0)"
   ]
  },
  {
   "cell_type": "code",
   "execution_count": 30,
   "metadata": {},
   "outputs": [],
   "source": [
    "f = open('precisions.txt', 'w')\n",
    "for i in range(7):\n",
    "    f.write('%d' %n_components[i])\n",
    "    for j in range(4):\n",
    "        for k in range(2):\n",
    "            f.write(',')\n",
    "            f.write('%f' %list_precision[i][j][k])\n",
    "    f.write('\\n')\n",
    "f.close()"
   ]
  },
  {
   "cell_type": "code",
   "execution_count": 29,
   "metadata": {},
   "outputs": [
    {
     "data": {
      "text/plain": [
       "[array([[ 0.87602719,  0.94253939],\n",
       "        [ 0.88486253,  0.94445474],\n",
       "        [ 0.88903306,  0.95301205],\n",
       "        [ 0.88721038,  0.93283905]]), array([[ 0.88656163,  0.94609206],\n",
       "        [ 0.9278962 ,  0.94986098],\n",
       "        [ 0.92267532,  0.95687365],\n",
       "        [ 0.92202657,  0.94053136]]), array([[ 0.90012357,  0.94874884],\n",
       "        [ 0.95508187,  0.95208526],\n",
       "        [ 0.95007723,  0.95477294],\n",
       "        [ 0.95403151,  0.94584492]]), array([[ 0.90747606,  0.95047884],\n",
       "        [ 0.95461847,  0.95563794],\n",
       "        [ 0.95678097,  0.95860365],\n",
       "        [ 0.96261971,  0.95230151]]), array([[ 0.91112141,  0.95097312],\n",
       "        [ 0.95891257,  0.95600865],\n",
       "        [ 0.95758418,  0.96039543],\n",
       "        [ 0.96688292,  0.9609515 ]]), array([[ 0.91473587,  0.9527958 ],\n",
       "        [ 0.95912882,  0.95903614],\n",
       "        [ 0.95798579,  0.96036454],\n",
       "        [ 0.96836577,  0.96475131]]), array([[ 0.91739265,  0.94303367],\n",
       "        [ 0.9592215 ,  0.95851097],\n",
       "        [ 0.95869632,  0.95956132],\n",
       "        [ 0.97083719,  0.96478221]])]"
      ]
     },
     "execution_count": 29,
     "metadata": {},
     "output_type": "execute_result"
    }
   ],
   "source": [
    "list_precision"
   ]
  },
  {
   "cell_type": "code",
   "execution_count": 31,
   "metadata": {},
   "outputs": [
    {
     "data": {
      "image/png": "[encoded data removed]",
      "text/plain": [
       "<matplotlib.figure.Figure at 0x3e645e48>"
      ]
     },
     "metadata": {},
     "output_type": "display_data"
    }
   ],
   "source": [
    "t = ['Decision Tree', 'NN1', 'NN5', 'SVC']\n",
    "n_components = [5, 10, 25, 50, 100, 200, 500]\n",
    "pos = [141, 142, 143, 144]\n",
    "plt.figure(figsize = (16, 4))\n",
    "for i in range(1, 5):\n",
    "    plt.subplot(pos[i - 1])\n",
    "    plt.title(t[i - 1])\n",
    "    plt.xlim([0, 510])\n",
    "    plt.ylim([0.8, 1.])\n",
    "    a = np.zeros(7)\n",
    "    b = np.zeros(7)\n",
    "    for j in range(7):\n",
    "        a[j] = list_precision[j][i - 1][0].copy()\n",
    "        b[j] = list_precision[j][i - 1][1].copy()\n",
    "    plt.plot(n_components, a, 'ro', label='RP')\n",
    "    plt.plot(n_components, b, 'bo', label='PCA')\n",
    "    plt.legend(bbox_to_anchor=(0.6, 0.2, 1., .102), loc=2, borderaxespad=0.)\n",
    "plt.savefig('accuracy.png')\n",
    "plt.show()"
   ]
  },
  {
   "cell_type": "code",
   "execution_count": null,
   "metadata": {
    "collapsed": true
   },
   "outputs": [],
   "source": []
  }
 ],
 "metadata": {
  "kernelspec": {
   "display_name": "Python 3",
   "language": "python",
   "name": "python3"
  },
  "language_info": {
   "codemirror_mode": {
    "name": "ipython",
    "version": 3
   },
   "file_extension": ".py",
   "mimetype": "text/x-python",
   "name": "python",
   "nbconvert_exporter": "python",
   "pygments_lexer": "ipython3",
   "version": "3.6.2"
  }
 },
 "nbformat": 4,
 "nbformat_minor": 1
}
